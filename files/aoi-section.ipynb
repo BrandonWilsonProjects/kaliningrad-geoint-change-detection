{
 "cells": [
  {
   "cell_type": "code",
   "execution_count": 2,
   "id": "7322d186",
   "metadata": {},
   "outputs": [],
   "source": [
    "import rasterio as rio\n",
    "import matplotlib.pyplot as plt\n",
    "import geopandas as gpd\n",
    "import os"
   ]
  },
  {
   "cell_type": "code",
   "execution_count": null,
   "id": "00c6599c",
   "metadata": {},
   "outputs": [],
   "source": [
    "dem_path = r\"C:\\Users\\bzwil\\OneDrive\\Desktop\\KaliningradProject\\kaliningrad-geoint-change-detection\\files\\data\\dem\\kaliningrad_dem_clipped.tif\"\n",
    "with rio.open(dem_path) as src:\n",
    "    ndvi_data = src.read(1)\n",
    "    extent = src.bounds\n",
    "    transform = src.transform\n",
    "    raster_crs = src.crs\n",
    "\n",
    "aoi = gpd.read_file(r\"C:\\Users\\bzwil\\OneDrive\\Desktop\\KaliningradProject\\kaliningrad-geoint-change-detection\\files\\data\\kaliningrad-oblast.geojson\")\n",
    "aoi = aoi.to_crs(raster_crs)\n",
    "\n",
    "fig, ax = plt.subplots(figsize=(10, 10))\n",
    "cax = ax.imshow(ndvi_data, cmap='RdYlGn', vmin=-1, vmax=1,\n",
    "                extent=[extent.left, extent.right, extent.bottom, extent.top])\n",
    "aoi.boundary.plot(ax=ax, edgecolor='blue', linewidth=2)\n",
    "fig.colorbar(cax, label=\"NDVI\")\n",
    "\n",
    "ax.set_title(\"DEM w/ AOI\")\n",
    "plt.axis(\"on\")\n",
    "plt.show()"
   ]
  }
 ],
 "metadata": {
  "kernelspec": {
   "display_name": "bzwdomain",
   "language": "python",
   "name": "python3"
  },
  "language_info": {
   "codemirror_mode": {
    "name": "ipython",
    "version": 3
   },
   "file_extension": ".py",
   "mimetype": "text/x-python",
   "name": "python",
   "nbconvert_exporter": "python",
   "pygments_lexer": "ipython3",
   "version": "3.12.3"
  }
 },
 "nbformat": 4,
 "nbformat_minor": 5
}
