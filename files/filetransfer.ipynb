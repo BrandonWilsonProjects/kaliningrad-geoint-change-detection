{
 "cells": [
  {
   "cell_type": "code",
   "execution_count": 2,
   "id": "79cd5f01",
   "metadata": {},
   "outputs": [],
   "source": [
    "import os\n",
    "import glob\n",
    "import subprocess\n",
    "import shutil\n",
    "import logging\n",
    "from datetime import datetime"
   ]
  },
  {
   "cell_type": "code",
   "execution_count": 3,
   "id": "c40dfb2d",
   "metadata": {},
   "outputs": [],
   "source": [
    "# configuration\n",
    "INPUT_DIR= \"/mnt/c/Users/bzwil/OneDrive/Desktop/KaliningradProject/kaliningrad-geoint-change-detection/files/data/prepared_data\"\n",
    "DB_NAME = \"kaliningraddata\"\n",
    "DB_USER = \"postgres\"\n",
    "DB_HOST = \"localhost\"\n",
    "DB_PORT = \"5432\"\n",
    "TABLE = \"public.dem_clipped\"\n",
    "SRS = \"4326\"\n",
    "TILE_SIZE=\"100x100\"\n",
    "LOG_FILE=\"/mnt/c/Users/bzwil/OneDrive/Desktop/KaliningradProject/kaliningrad-geoint-change-detection/files/transfer.log\""
   ]
  },
  {
   "cell_type": "code",
   "execution_count": null,
   "id": "ee02edf7",
   "metadata": {},
   "outputs": [],
   "source": [
    "logging.basicConfig(\n",
    "    filename=LOG_FILE,\n",
    "    level=logging.INFO,\n",
    "    format=\"%(asctime)s - %(levelname)s - %(message)s\"\n",
    ")\n",
    "\n",
    "def find_raster2pgsql():\n",
    "    possible_path = [\n",
    "        \"/usr/bin/raster2pgsql\"\n",
    "    ]\n",
    "    \n",
    "    for path in possible_path: \n",
    "        if os.path.isfile(path) and os.access(path, os.X_OK):\n",
    "            return path\n",
    "        else:\n",
    "            print(\"your not correct brother\")\n",
    "        \n",
    "    return shutil.which(\"raster2pgsql\")"
   ]
  },
  {
   "cell_type": "code",
   "execution_count": null,
   "id": "351c27d6",
   "metadata": {},
   "outputs": [],
   "source": []
  }
 ],
 "metadata": {
  "kernelspec": {
   "display_name": "bzwdomain",
   "language": "python",
   "name": "python3"
  },
  "language_info": {
   "codemirror_mode": {
    "name": "ipython",
    "version": 3
   },
   "file_extension": ".py",
   "mimetype": "text/x-python",
   "name": "python",
   "nbconvert_exporter": "python",
   "pygments_lexer": "ipython3",
   "version": "3.12.3"
  }
 },
 "nbformat": 4,
 "nbformat_minor": 5
}
