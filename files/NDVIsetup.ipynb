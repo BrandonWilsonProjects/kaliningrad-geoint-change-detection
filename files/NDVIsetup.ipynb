{
 "cells": [
  {
   "cell_type": "code",
   "execution_count": 2,
   "id": "55190e58",
   "metadata": {},
   "outputs": [],
   "source": [
    "from pyhdf.SD import SD, SDC\n",
    "import numpy as np\n",
    "import geopandas as geo\n",
    "import rasterio as rio\n",
    "import rasterio.plot\n",
    "from rasterio.transform import from_origin\n",
    "from rasterio.features import geometry_mask\n",
    "import matplotlib.pyplot as plt"
   ]
  },
  {
   "cell_type": "code",
   "execution_count": 3,
   "id": "d4ca0e6f",
   "metadata": {},
   "outputs": [],
   "source": [
    "hdf_file = r\"C:\\Users\\bzwil\\OneDrive\\Desktop\\KaliningradProject\\kaliningrad-geoint-change-detection\\data\\data\\modis_hdf\\MOD13Q1.A2024081.h19v03.061.2024099105615.hdf\""
   ]
  },
  {
   "cell_type": "code",
   "execution_count": 4,
   "id": "79f127e2",
   "metadata": {},
   "outputs": [
    {
     "name": "stdout",
     "output_type": "stream",
     "text": [
      "datasets:\n",
      "250m 16 days NDVI\n",
      "250m 16 days EVI\n",
      "250m 16 days VI Quality\n",
      "250m 16 days red reflectance\n",
      "250m 16 days NIR reflectance\n",
      "250m 16 days blue reflectance\n",
      "250m 16 days MIR reflectance\n",
      "250m 16 days view zenith angle\n",
      "250m 16 days sun zenith angle\n",
      "250m 16 days relative azimuth angle\n",
      "250m 16 days composite day of the year\n",
      "250m 16 days pixel reliability\n",
      "complete\n"
     ]
    }
   ],
   "source": [
    "# parsing through hdf file \n",
    "hdf = SD(hdf_file, SDC.READ)\n",
    "\n",
    "print(\"datasets:\")\n",
    "for name, desc in hdf.datasets().items():\n",
    "    print(name)\n",
    "    \n",
    "# extract NDVI dataset\n",
    "ndvi_data = hdf.select('250m 16 days NDVI').get().astype('float32')\n",
    "ndvi_data[ndvi_data == -3000] = np.nan # obviating unknown values\n",
    "ndvi_data /= 10000.0\n",
    "print(\"complete\")"
   ]
  },
  {
   "cell_type": "code",
   "execution_count": null,
   "id": "05e1a4bf",
   "metadata": {},
   "outputs": [],
   "source": []
  }
 ],
 "metadata": {
  "kernelspec": {
   "display_name": "bzwdomain",
   "language": "python",
   "name": "python3"
  },
  "language_info": {
   "codemirror_mode": {
    "name": "ipython",
    "version": 3
   },
   "file_extension": ".py",
   "mimetype": "text/x-python",
   "name": "python",
   "nbconvert_exporter": "python",
   "pygments_lexer": "ipython3",
   "version": "3.12.3"
  }
 },
 "nbformat": 4,
 "nbformat_minor": 5
}
