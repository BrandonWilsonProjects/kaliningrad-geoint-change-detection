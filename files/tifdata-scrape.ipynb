{
 "cells": [
  {
   "cell_type": "code",
   "execution_count": null,
   "id": "b05373ac",
   "metadata": {},
   "outputs": [],
   "source": [
    "import earthaccess\n",
    "import elevation\n",
    "from pyhdf.SD import SD, SDC\n",
    "import xarray as xr\n",
    "import rasterio as rio\n",
    "import glob\n",
    "from rasterio.transform import from_origin\n",
    "import geopandas as geo\n",
    "import numpy as np\n",
    "import os\n",
    "from rasterio.mask import mask"
   ]
  },
  {
   "cell_type": "code",
   "execution_count": 5,
   "id": "60e2868b",
   "metadata": {},
   "outputs": [
    {
     "data": {
      "text/plain": [
       "<earthaccess.auth.Auth at 0x1adfbc6da60>"
      ]
     },
     "execution_count": 5,
     "metadata": {},
     "output_type": "execute_result"
    }
   ],
   "source": [
    "# authenticate with Earthdata\n",
    "earthaccess.login(strategy=\"netrc\")"
   ]
  },
  {
   "cell_type": "code",
   "execution_count": null,
   "id": "041c2b73",
   "metadata": {},
   "outputs": [],
   "source": [
    "# modis setup\n",
    "hdf_file = r\"C:\\Users\\bzwil\\OneDrive\\Desktop\\KaliningradProject\\kaliningrad-geoint-change-detection\\files\\data\\modis_hdf\\MOD13Q1.A2024081.h19v03.061.2024099105615.hdf\"\n",
    "\n",
    "# parsing through hdf file \n",
    "hdf = SD(hdf_file, SDC.READ)\n",
    "\n",
    "print(\"datasets:\")\n",
    "for name, desc in hdf.datasets().items():\n",
    "    print(name)\n",
    "    \n",
    "# extract NDVI dataset\n",
    "ndvi_data = hdf.select('250m 16 days NDVI').get().astype('float32')\n",
    "ndvi_data[ndvi_data == -3000] = np.nan # obviating unknown values\n",
    "ndvi_data /= 10000.0\n",
    "print(\"complete\")"
   ]
  },
  {
   "cell_type": "code",
   "execution_count": null,
   "id": "29c2a81e",
   "metadata": {},
   "outputs": [],
   "source": [
    "# MOD13Q1 (vegetaion indices 16-day L3 global 250m)\n",
    "granules = earthaccess.search_data(\n",
    "    short_name = \"MOD13Q1\",\n",
    "    temporal = (\"2024-04-01\", \"2024-04-30\"), \n",
    "    bounding_box = (19.8, 54.3, 21.5, 55.1), \n",
    "    cloud_hosted = True\n",
    ")\n",
    "\n",
    "download_files = earthaccess.download(granules[:1])\n",
    "print(download_files)\n",
    "\n",
    "# situate the ndvi file properly\n",
    "ndvi_path = os.path.join(hdf_file, \"..\", \"..\", \"ndvi\", \"ndvi_output.tif\")\n",
    "\n",
    "with rio.open(ndvi_path) as ndvi:\n",
    "    ndvi_data = ndvi.read(1).astype('float32')\n",
    "    ndvi_data[ndvi_data == -3000] = float('nan')\n",
    "    ndvi_data = ndvi_data / 10000.0 \n",
    "    \n",
    "    print(\"NDVI shape:\", ndvi_data.shape)"
   ]
  },
  {
   "cell_type": "code",
   "execution_count": null,
   "id": "75f12193",
   "metadata": {},
   "outputs": [],
   "source": [
    "# VIIRS fire data\n",
    "path = r\"C:\\Users\\bzwil\\OneDrive\\Desktop\\KaliningradProject\\kaliningrad-geoint-change-detection\\files\\data\\viirs_nc\"\n",
    "\n",
    "nc_files = glob.glob(os.path.join(path, \"*.nc\"))\n",
    "target_variable = 'fire mask' # paramount data\n",
    "\n",
    "# processing each .nc file & matching file shape\n",
    "for nc_file in nc_files:\n",
    "    try:\n",
    "        ds = xr.open_dataset(nc_file)\n",
    "        \n",
    "        fire_mask = ds[target_variable].values  \n",
    "        lat = ds['FP_latitude'].values         \n",
    "        lon = ds['FP_longitude'].values       \n",
    "        print(\"Variables extracted: fire mask, latitude, longitude\", flush=True)\n",
    "\n",
    "        if fire_mask.shape != lat.shape or fire_mask.shape != lon.shape:\n",
    "            rows, cols = fire_mask.shape\n",
    "        else:\n",
    "            rows, cols = fire_mask.shape\n",
    "        \n",
    "        nodata_value = 255 if fire_mask.dtype == 'uint8' else -9999     \n",
    "               \n",
    "        lon_min, lon_max = lon.min(), lon.max()\n",
    "        lat_min, lat_max = lat.min(), lat.max()\n",
    "        rows, cols = fire_mask.shape\n",
    "        x_res = (lon_max - lon_min) / cols\n",
    "        y_res = (lat_max - lat_min) / rows\n",
    "\n",
    "        transform = from_origin(lon_min, lat_max, x_res, y_res)\n",
    "\n",
    "        metadata = {\n",
    "            'driver': 'GTiff',\n",
    "            'height': rows,\n",
    "            'width': cols,\n",
    "            'count': 1,  \n",
    "            'dtype': fire_mask.dtype,\n",
    "            'crs': 'EPSG:4326',  \n",
    "            'transform': transform,\n",
    "            'nodata': nodata_value  \n",
    "        }\n",
    "\n",
    "        # creating output filename\n",
    "        output_tif = os.path.join(path, os.path.splitext(os.path.basename(nc_file))[0] + f\"_{target_variable.replace(' ', '_')}.tif\")\n",
    "        print(f\"Output file will be: {output_tif}\", flush=True)\n",
    "\n",
    "        # writing geotiff\n",
    "        with rasterio.open(output_tif, 'w', **metadata) as dst:\n",
    "            dst.write(fire_mask, 1)  # Write as band 1\n",
    "            print(f\"Saved GeoTIFF: {output_tif}\", flush=True)\n",
    "\n",
    "        ds.close()\n",
    "    except Exception as e:\n",
    "        print(f\"Error processing {nc_file}: {e}\", flush=True)\n",
    "        continue"
   ]
  },
  {
   "cell_type": "code",
   "execution_count": null,
   "id": "b67e791a",
   "metadata": {},
   "outputs": [],
   "source": [
    "# NASA-SRTM DEM\n",
    "# run via Ubuntu\n",
    "\n",
    "bounds = (19.5, 54.3, 22.9, 55.5)\n",
    "dem = \"kaliningrad_srtm.tif\"\n",
    "elevation.clip(bounds=bounds, output=dem)\n",
    "\n",
    "# ensuring all data is scaled properly\n",
    "with rio.open(dem) as src:\n",
    "    dem_raw = src.read(1).astype(\"float32\")\n",
    "\n",
    "    if src.nodata is not None:\n",
    "        dem_raw[dem_raw == src.nodata] = np.nan\n",
    "        \n",
    "dem_raw[(dem_raw < -5000) | (dem_raw > 5000)] = np.nan    "
   ]
  }
 ],
 "metadata": {
  "kernelspec": {
   "display_name": "bzwdomain",
   "language": "python",
   "name": "python3"
  },
  "language_info": {
   "codemirror_mode": {
    "name": "ipython",
    "version": 3
   },
   "file_extension": ".py",
   "mimetype": "text/x-python",
   "name": "python",
   "nbconvert_exporter": "python",
   "pygments_lexer": "ipython3",
   "version": "3.12.3"
  }
 },
 "nbformat": 4,
 "nbformat_minor": 5
}
