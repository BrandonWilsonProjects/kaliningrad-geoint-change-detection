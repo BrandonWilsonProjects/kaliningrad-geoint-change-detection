{
 "cells": [
  {
   "cell_type": "code",
   "execution_count": null,
   "id": "45694890",
   "metadata": {},
   "outputs": [],
   "source": [
    "import requests\n",
    "import geopandas as geo\n",
    "import os\n",
    "from datetime import datetime"
   ]
  },
  {
   "cell_type": "markdown",
   "id": "e354c20e",
   "metadata": {},
   "source": [
    "Boundary data from geoBoundaries, Runfola, D. et al. (2020) geoBoundaries: A global database of political administrative boundaries. PLoS ONE 15(4): e0231866."
   ]
  },
  {
   "cell_type": "code",
   "execution_count": null,
   "id": "bf19193e",
   "metadata": {},
   "outputs": [
    {
     "name": "stdout",
     "output_type": "stream",
     "text": [
      "Downloading GeoJSON from: https://github.com/wmgeolab/geoBoundaries/raw/9469f09/releaseData/gbOpen/RUS/ADM1/geoBoundaries-RUS-ADM1.geojson\n",
      "saved Kaliningrad GeoJSON to: C:\\Users\\bzwil\\OneDrive\\Desktop\\KaliningradProject\\kaliningrad-geoint-change-detection\\data\\data\\kaliningrad-oblast.geojson\n",
      "Kaliningrad Boundary Info:\n",
      " - Number of features: 1\n",
      " - CRS: EPSG:4326\n",
      " - Bounds: [19.63892818 54.3182154  22.8866837  55.2936996 ]\n"
     ]
    }
   ],
   "source": [
    "# configuration\n",
    "\n",
    "ISO_CODE = \"RUS\" #ISO 3166-1 alpha-3 code for Russia\n",
    "ADM_LEVEL = \"ADM1\" # administrative level 1 for Kaliningrad Oblast\n",
    "RELEASE_TYPE = \"gbOpen\" # open license\n",
    "OUTPUT_DIR = r\"C:\\Users\\bzwil\\OneDrive\\Desktop\\KaliningradProject\\kaliningrad-geoint-change-detection\\data\\data\"\n",
    "OUTPUT_FILE = \"kaliningrad-oblast.geojson\"\n",
    "\n",
    "os.makedirs(OUTPUT_DIR, exist_ok=True)\n",
    "\n",
    "# link for api access\n",
    "url = f\"https://www.geoboundaries.org/api/current/{RELEASE_TYPE}/{ISO_CODE}/{ADM_LEVEL}/\"\n",
    "\n",
    "try: \n",
    "    # fetch metadata\n",
    "    response = requests.get(url)\n",
    "    response.raise_for_status() # in case of error\n",
    "    metadata = response.json()\n",
    "    \n",
    "    # downloading geojson\n",
    "    geojson_url = metadata[\"gjDownloadURL\"]\n",
    "    print(f\"Downloading GeoJSON from: {geojson_url}\")\n",
    "    \n",
    "    geojson_response = requests.get(geojson_url)\n",
    "    geojson_response.raise_for_status()\n",
    "    \n",
    "    # geopandas dataframe\n",
    "    gdf = geo.read_file(geojson_response.text)\n",
    "    \n",
    "    # filter\n",
    "    kaliningrad = gdf[gdf[\"shapeName\"].str.contains(\"Kaliningrad\", case=False, na=False)]\n",
    "    \n",
    "    if kaliningrad.empty:\n",
    "        print(\"no features for Kaliningrad\")\n",
    "    else: \n",
    "        output_path = os.path.join(OUTPUT_DIR, OUTPUT_FILE)\n",
    "        kaliningrad.to_file(output_path, driver = \"GeoJSON\")\n",
    "        print(f\"saved Kaliningrad GeoJSON to: {output_path}\")\n",
    "        \n",
    "        # elaborative info\n",
    "        print(\"Kaliningrad Boundary Info:\")\n",
    "        print(f\" - Number of features: {len(kaliningrad)}\")\n",
    "        print(f\" - CRS: {kaliningrad.crs}\")\n",
    "        print(f\" - Bounds: {kaliningrad.total_bounds}\")\n",
    "\n",
    "except requests.exceptions.RequestException as e:\n",
    "    print(f\"error during HTTP request: {e}\")\n",
    "except KeyError as e:\n",
    "    print(f\"error in metadata parsing: {e}\")\n",
    "except Exception as e:\n",
    "    print(f\"unexpected error: {e}\")    "
   ]
  }
 ],
 "metadata": {
  "kernelspec": {
   "display_name": "bzwdomain",
   "language": "python",
   "name": "python3"
  },
  "language_info": {
   "codemirror_mode": {
    "name": "ipython",
    "version": 3
   },
   "file_extension": ".py",
   "mimetype": "text/x-python",
   "name": "python",
   "nbconvert_exporter": "python",
   "pygments_lexer": "ipython3",
   "version": "3.12.3"
  }
 },
 "nbformat": 4,
 "nbformat_minor": 5
}
