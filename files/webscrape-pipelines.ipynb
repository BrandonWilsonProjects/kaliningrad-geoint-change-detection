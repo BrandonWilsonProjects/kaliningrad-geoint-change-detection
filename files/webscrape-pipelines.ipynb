{
 "cells": [
  {
   "cell_type": "code",
   "execution_count": 4,
   "id": "b05373ac",
   "metadata": {},
   "outputs": [
    {
     "name": "stderr",
     "output_type": "stream",
     "text": [
      "c:\\Users\\bzwil\\anaconda3\\envs\\bzwdomain\\Lib\\site-packages\\tqdm\\auto.py:21: TqdmWarning: IProgress not found. Please update jupyter and ipywidgets. See https://ipywidgets.readthedocs.io/en/stable/user_install.html\n",
      "  from .autonotebook import tqdm as notebook_tqdm\n"
     ]
    }
   ],
   "source": [
    "import earthaccess\n",
    "import xarray as xr\n",
    "import rasterio as rio\n",
    "import glob2\n",
    "from rasterio.transform import from_origin\n",
    "import geopandas as geo\n",
    "import numpy as np\n",
    "import os\n",
    "from rasterio.mask import mask"
   ]
  },
  {
   "cell_type": "code",
   "execution_count": 5,
   "id": "60e2868b",
   "metadata": {},
   "outputs": [
    {
     "data": {
      "text/plain": [
       "<earthaccess.auth.Auth at 0x1adfbc6da60>"
      ]
     },
     "execution_count": 5,
     "metadata": {},
     "output_type": "execute_result"
    }
   ],
   "source": [
    "# authenticate with Earthdata\n",
    "earthaccess.login(strategy=\"netrc\")"
   ]
  },
  {
   "cell_type": "code",
   "execution_count": null,
   "id": "29c2a81e",
   "metadata": {},
   "outputs": [],
   "source": [
    "# MOD13Q1 (vegetaion indices 16-day L3 global 250m)\n",
    "granules = earthaccess.search_data(\n",
    "    short_name = \"MOD13Q1\",\n",
    "    temporal = (\"2024-04-01\", \"2024-04-30\"), \n",
    "    bounding_box = (19.8, 54.3, 21.5, 55.1), \n",
    "    cloud_hosted = True\n",
    ")\n",
    "\n",
    "download_files = earthaccess.download(granules[:1])\n",
    "print(download_files)\n",
    "\n",
    "# situate the ndvi file properly\n",
    "ndvi_path = r'C:\\Users\\bzwil\\OneDrive\\Desktop\\KaliningradProject\\kaliningrad-geoint-change-detection\\files\\data\\geotiffs\\ndvi_output.tif'\n",
    "\n",
    "with rio.open(ndvi_path) as ndvi:\n",
    "    ndvi_data = ndvi.read(1).astype('float32')\n",
    "    ndvi_data[ndvi_data == -3000] = float('nan')\n",
    "    ndvi_data = ndvi_data / 10000.0 \n",
    "    \n",
    "    print(\"NDVI shape:\", ndvi_data.shape)"
   ]
  },
  {
   "cell_type": "code",
   "execution_count": null,
   "id": "acaa027d",
   "metadata": {},
   "outputs": [],
   "source": [
    "# web scraping DEM\n",
    "# SRTMGL1 DEM tiles\n",
    "granules = earthaccess.search_data(\n",
    "    short_name = \"SRTMGL1\",\n",
    "    temporal = (\"2000-02-11\", \"2000-02-11\"), \n",
    "    bounding_box = (19.8, 54.3, 21.5, 55.1), \n",
    "    cloud_hosted = True\n",
    ")\n",
    "\n",
    "# downloading first tile \n",
    "download_DEM = earthaccess.download(granules[:1])\n",
    "dem_path = download_DEM[0]\n",
    "print(\"downloaded DEM:\", dem_path)\n",
    "\n",
    "# load kaliningrad aoi & clip to dem\n",
    "aoi_path = r\"C:\\Users\\bzwil\\OneDrive\\Desktop\\KaliningradProject\\kaliningrad-geoint-change-detection\\files\\data\\kaliningrad-oblast.geojson\"\n",
    "aoi = geo.read_file(aoi_path)\n",
    "\n",
    "with rio.open(dem_path) as src:\n",
    "    aoi = aoi.to_crs(src.crs)\n",
    "    clipped_dem, transform = mask(src, aoi.geometry, crop=True)\n",
    "    out_meta = {\n",
    "    \"driver\": \"GTiff\",\n",
    "    \"dtype\": clipped_dem.dtype,\n",
    "    \"count\": 1,\n",
    "    \"crs\": src.crs,\n",
    "    \"transform\": transform,\n",
    "    \"width\": int(clipped_dem.shape[2]),\n",
    "    \"height\": int(clipped_dem.shape[1])\n",
    "}\n",
    "\n",
    "out_meta.update({\n",
    "    \"height\": clipped_dem.shape[1],\n",
    "    \"width\": clipped_dem.shape[2],\n",
    "    \"transform\": transform\n",
    "})\n",
    "\n",
    "output_path = r\"C:\\Users\\bzwil\\OneDrive\\Desktop\\KaliningradProject\\kaliningrad-geoint-change-detection\\files\\data\\dem\\kaliningrad_dem_clipped.tif\"\n",
    "with rio.open(output_path, \"w\", **out_meta) as dst:\n",
    "    dst.write(clipped_dem)"
   ]
  },
  {
   "cell_type": "code",
   "execution_count": null,
   "id": "75f12193",
   "metadata": {},
   "outputs": [
    {
     "name": "stdout",
     "output_type": "stream",
     "text": [
      "Script started!\n",
      "Current working directory: C:\\Users\\bzwil\\OneDrive\\Desktop\\KaliningradProject\\kaliningrad-geoint-change-detection\\files\\data\\viirs_nc\n",
      "Found .nc files: ['C:\\\\Users\\\\bzwil\\\\OneDrive\\\\Desktop\\\\KaliningradProject\\\\kaliningrad-geoint-change-detection\\\\files\\\\data\\\\viirs_nc\\\\VNP14IMG.A2024092.0036.002.2024093145722.nc', 'C:\\\\Users\\\\bzwil\\\\OneDrive\\\\Desktop\\\\KaliningradProject\\\\kaliningrad-geoint-change-detection\\\\files\\\\data\\\\viirs_nc\\\\VNP14IMG.A2024092.0218.002.2024093145719.nc', 'C:\\\\Users\\\\bzwil\\\\OneDrive\\\\Desktop\\\\KaliningradProject\\\\kaliningrad-geoint-change-detection\\\\files\\\\data\\\\viirs_nc\\\\VNP14IMG.A2024092.1030.002.2024093145722.nc']\n",
      "Processing C:\\Users\\bzwil\\OneDrive\\Desktop\\KaliningradProject\\kaliningrad-geoint-change-detection\\files\\data\\viirs_nc\\VNP14IMG.A2024092.0036.002.2024093145722.nc...\n",
      "Dataset loaded successfully.\n",
      "Variables extracted: fire mask, latitude, longitude\n",
      "data type of fire mask: uint8\n",
      "using nodata value: 255\n",
      "Spatial bounds: lon(2.2693140506744385, 42.00699996948242), lat(44.73016357421875, 59.63102722167969)\n",
      "Output file will be: C:\\Users\\bzwil\\OneDrive\\Desktop\\KaliningradProject\\kaliningrad-geoint-change-detection\\files\\data\\viirs_nc\\VNP14IMG.A2024092.0036.002.2024093145722_fire_mask.tif\n",
      "Saved GeoTIFF: C:\\Users\\bzwil\\OneDrive\\Desktop\\KaliningradProject\\kaliningrad-geoint-change-detection\\files\\data\\viirs_nc\\VNP14IMG.A2024092.0036.002.2024093145722_fire_mask.tif\n",
      "Processing C:\\Users\\bzwil\\OneDrive\\Desktop\\KaliningradProject\\kaliningrad-geoint-change-detection\\files\\data\\viirs_nc\\VNP14IMG.A2024092.0218.002.2024093145719.nc...\n",
      "Dataset loaded successfully.\n",
      "Variables extracted: fire mask, latitude, longitude\n",
      "data type of fire mask: uint8\n",
      "using nodata value: 255\n",
      "Spatial bounds: lon(-22.41343116760254, 22.822614669799805), lat(50.325809478759766, 63.879146575927734)\n",
      "Output file will be: C:\\Users\\bzwil\\OneDrive\\Desktop\\KaliningradProject\\kaliningrad-geoint-change-detection\\files\\data\\viirs_nc\\VNP14IMG.A2024092.0218.002.2024093145719_fire_mask.tif\n",
      "Saved GeoTIFF: C:\\Users\\bzwil\\OneDrive\\Desktop\\KaliningradProject\\kaliningrad-geoint-change-detection\\files\\data\\viirs_nc\\VNP14IMG.A2024092.0218.002.2024093145719_fire_mask.tif\n",
      "Processing C:\\Users\\bzwil\\OneDrive\\Desktop\\KaliningradProject\\kaliningrad-geoint-change-detection\\files\\data\\viirs_nc\\VNP14IMG.A2024092.1030.002.2024093145722.nc...\n",
      "Dataset loaded successfully.\n",
      "Variables extracted: fire mask, latitude, longitude\n",
      "data type of fire mask: uint8\n",
      "using nodata value: 255\n",
      "Spatial bounds: lon(5.0169525146484375, 43.19519805908203), lat(54.76898193359375, 60.809303283691406)\n",
      "Output file will be: C:\\Users\\bzwil\\OneDrive\\Desktop\\KaliningradProject\\kaliningrad-geoint-change-detection\\files\\data\\viirs_nc\\VNP14IMG.A2024092.1030.002.2024093145722_fire_mask.tif\n",
      "Saved GeoTIFF: C:\\Users\\bzwil\\OneDrive\\Desktop\\KaliningradProject\\kaliningrad-geoint-change-detection\\files\\data\\viirs_nc\\VNP14IMG.A2024092.1030.002.2024093145722_fire_mask.tif\n",
      "Conversion complete!\n",
      "Listing files in directory: ['aoi-section.ipynb', 'aoiscrape.ipynb', 'data', 'NDVIsetup.ipynb', 'webscrape-pipelines.ipynb']\n"
     ]
    }
   ],
   "source": [
    "path = r\"C:\\Users\\bzwil\\OneDrive\\Desktop\\KaliningradProject\\kaliningrad-geoint-change-detection\\files\\data\\viirs_nc\"\n",
    "\n",
    "nc_files = glob.glob(os.path.join(path, \"*.nc\"))\n",
    "target_variable = 'fire mask' # paramount data\n",
    "\n",
    "# processing each .nc file & matching file shape\n",
    "for nc_file in nc_files:\n",
    "    try:\n",
    "        ds = xr.open_dataset(nc_file)\n",
    "        \n",
    "        fire_mask = ds[target_variable].values  \n",
    "        lat = ds['FP_latitude'].values         \n",
    "        lon = ds['FP_longitude'].values       \n",
    "        print(\"Variables extracted: fire mask, latitude, longitude\", flush=True)\n",
    "\n",
    "        if fire_mask.shape != lat.shape or fire_mask.shape != lon.shape:\n",
    "            rows, cols = fire_mask.shape\n",
    "        else:\n",
    "            rows, cols = fire_mask.shape\n",
    "        \n",
    "        nodata_value = 255 if fire_mask.dtype == 'uint8' else -9999     \n",
    "               \n",
    "        lon_min, lon_max = lon.min(), lon.max()\n",
    "        lat_min, lat_max = lat.min(), lat.max()\n",
    "        rows, cols = fire_mask.shape\n",
    "        x_res = (lon_max - lon_min) / cols\n",
    "        y_res = (lat_max - lat_min) / rows\n",
    "\n",
    "        transform = from_origin(lon_min, lat_max, x_res, y_res)\n",
    "\n",
    "        metadata = {\n",
    "            'driver': 'GTiff',\n",
    "            'height': rows,\n",
    "            'width': cols,\n",
    "            'count': 1,  \n",
    "            'dtype': fire_mask.dtype,\n",
    "            'crs': 'EPSG:4326',  \n",
    "            'transform': transform,\n",
    "            'nodata': nodata_value  \n",
    "        }\n",
    "\n",
    "        # creating output filename\n",
    "        output_tif = os.path.join(path, os.path.splitext(os.path.basename(nc_file))[0] + f\"_{target_variable.replace(' ', '_')}.tif\")\n",
    "        print(f\"Output file will be: {output_tif}\", flush=True)\n",
    "\n",
    "        # writing geotiff\n",
    "        with rasterio.open(output_tif, 'w', **metadata) as dst:\n",
    "            dst.write(fire_mask, 1)  # Write as band 1\n",
    "            print(f\"Saved GeoTIFF: {output_tif}\", flush=True)\n",
    "\n",
    "        ds.close()\n",
    "    except Exception as e:\n",
    "        print(f\"Error processing {nc_file}: {e}\", flush=True)\n",
    "        continue"
   ]
  }
 ],
 "metadata": {
  "kernelspec": {
   "display_name": "bzwdomain",
   "language": "python",
   "name": "python3"
  },
  "language_info": {
   "codemirror_mode": {
    "name": "ipython",
    "version": 3
   },
   "file_extension": ".py",
   "mimetype": "text/x-python",
   "name": "python",
   "nbconvert_exporter": "python",
   "pygments_lexer": "ipython3",
   "version": "3.12.3"
  }
 },
 "nbformat": 4,
 "nbformat_minor": 5
}
